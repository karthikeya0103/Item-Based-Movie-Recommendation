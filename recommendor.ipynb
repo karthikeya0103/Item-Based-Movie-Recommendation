{
 "cells": [
  {
   "cell_type": "markdown",
   "id": "9d8bf8b4",
   "metadata": {},
   "source": [
    "# Recommendation System"
   ]
  },
  {
   "cell_type": "code",
   "execution_count": null,
   "id": "1a97afee",
   "metadata": {},
   "outputs": [],
   "source": [
    "import numpy as np \n",
    "import pandas as pd "
   ]
  },
  {
   "cell_type": "markdown",
   "id": "65dc0f2f",
   "metadata": {},
   "source": [
    "### Importing Datasets"
   ]
  },
  {
   "cell_type": "code",
   "execution_count": null,
   "id": "0dc9c1f8",
   "metadata": {},
   "outputs": [],
   "source": [
    "movies=pd.read_csv('datasets/tmdb_5000_movies.csv')\n",
    "credits=pd.read_csv('datasets/tmdb_5000_credits.csv')"
   ]
  },
  {
   "cell_type": "code",
   "execution_count": null,
   "id": "38fd30d7",
   "metadata": {},
   "outputs": [],
   "source": [
    "movies.head(1)"
   ]
  },
  {
   "cell_type": "code",
   "execution_count": null,
   "id": "0be4ffa8",
   "metadata": {},
   "outputs": [],
   "source": [
    "credits.head(1)"
   ]
  },
  {
   "cell_type": "code",
   "execution_count": null,
   "id": "6ace575f",
   "metadata": {},
   "outputs": [],
   "source": [
    "movies.shape"
   ]
  },
  {
   "cell_type": "code",
   "execution_count": null,
   "id": "a2c86827",
   "metadata": {},
   "outputs": [],
   "source": [
    "credits.shape"
   ]
  },
  {
   "cell_type": "markdown",
   "id": "3c21ff5f",
   "metadata": {},
   "source": [
    "### Data Joining"
   ]
  },
  {
   "cell_type": "code",
   "execution_count": null,
   "id": "89f8bf99",
   "metadata": {},
   "outputs": [],
   "source": [
    "df=movies.merge(credits,on='title')"
   ]
  },
  {
   "cell_type": "code",
   "execution_count": null,
   "id": "cbd56131",
   "metadata": {},
   "outputs": [],
   "source": [
    "df.shape"
   ]
  },
  {
   "cell_type": "code",
   "execution_count": null,
   "id": "e4c739c6",
   "metadata": {},
   "outputs": [],
   "source": [
    "df.head(1)"
   ]
  },
  {
   "cell_type": "markdown",
   "id": "3f7cf96f",
   "metadata": {},
   "source": [
    "### Columns Filtering "
   ]
  },
  {
   "cell_type": "code",
   "execution_count": null,
   "id": "3e9d0360",
   "metadata": {},
   "outputs": [],
   "source": [
    "df=df[['movie_id', 'title', 'overview', 'genres', 'keywords', 'cast', 'crew']]"
   ]
  },
  {
   "cell_type": "code",
   "execution_count": null,
   "id": "2a36ad4c",
   "metadata": {},
   "outputs": [],
   "source": [
    "df.info()"
   ]
  },
  {
   "cell_type": "code",
   "execution_count": null,
   "id": "34aaef2c",
   "metadata": {},
   "outputs": [],
   "source": [
    "df.iloc[0].genres"
   ]
  },
  {
   "cell_type": "markdown",
   "id": "ecfd3750",
   "metadata": {},
   "source": [
    "### Data Preprocessing"
   ]
  },
  {
   "cell_type": "code",
   "execution_count": null,
   "id": "4922a57d",
   "metadata": {},
   "outputs": [],
   "source": [
    "import ast\n",
    "l2=[]\n",
    "def convert(l1):\n",
    "    for i in ast.literal_eval(l1):\n",
    "        l2.append(i['name'])\n",
    "    return l2"
   ]
  },
  {
   "cell_type": "code",
   "execution_count": null,
   "id": "e205ddd8",
   "metadata": {},
   "outputs": [],
   "source": [
    "df['genres']=df['genres'].apply(convert)"
   ]
  },
  {
   "cell_type": "code",
   "execution_count": null,
   "id": "f28d258c",
   "metadata": {},
   "outputs": [],
   "source": [
    "df['keywords']=df['keywords'].apply(convert)"
   ]
  },
  {
   "cell_type": "code",
   "execution_count": null,
   "id": "7574f63f",
   "metadata": {},
   "outputs": [],
   "source": [
    "df.iloc[0].cast"
   ]
  },
  {
   "cell_type": "code",
   "execution_count": null,
   "id": "13218048",
   "metadata": {},
   "outputs": [],
   "source": [
    "def convert3(l1):\n",
    "    l2=[]\n",
    "    counter=0\n",
    "    for i in ast.literal_eval(l1):\n",
    "        if counter!=3:\n",
    "            l2.append(i['name'])\n",
    "            counter+=1\n",
    "        else:\n",
    "            break\n",
    "    return l2"
   ]
  },
  {
   "cell_type": "code",
   "execution_count": null,
   "id": "08a776cd",
   "metadata": {},
   "outputs": [],
   "source": [
    "df['cast']=df['cast'].apply(convert3)"
   ]
  },
  {
   "cell_type": "code",
   "execution_count": null,
   "id": "94f56b33",
   "metadata": {},
   "outputs": [],
   "source": [
    "def convert2(l1):\n",
    "    l2=[]\n",
    "    for i in ast.literal_eval(l1):\n",
    "        if i['job']=='Director':\n",
    "            l2.append(i['name'])\n",
    "            break\n",
    "    return l2\n",
    "   "
   ]
  },
  {
   "cell_type": "code",
   "execution_count": null,
   "id": "066e340b",
   "metadata": {},
   "outputs": [],
   "source": [
    "df['crew']=df['crew'].apply(convert2)"
   ]
  },
  {
   "cell_type": "code",
   "execution_count": null,
   "id": "7866a403",
   "metadata": {},
   "outputs": [],
   "source": [
    "df.head(1)"
   ]
  },
  {
   "cell_type": "code",
   "execution_count": null,
   "id": "bf837e1e",
   "metadata": {},
   "outputs": [],
   "source": [
    "df.dropna(inplace=True)"
   ]
  },
  {
   "cell_type": "code",
   "execution_count": null,
   "id": "ecaf00cd",
   "metadata": {},
   "outputs": [],
   "source": [
    "df['overview'] = df['overview'].apply(lambda x:x.split())"
   ]
  },
  {
   "cell_type": "code",
   "execution_count": null,
   "id": "70266b41",
   "metadata": {},
   "outputs": [],
   "source": [
    "df.head(1)"
   ]
  },
  {
   "cell_type": "code",
   "execution_count": null,
   "id": "aa4e7cdc",
   "metadata": {},
   "outputs": [],
   "source": [
    "df['genres'] = df['genres'].apply(lambda x: [i.replace(\" \",\"\") for i in x])\n"
   ]
  },
  {
   "cell_type": "code",
   "execution_count": null,
   "id": "47ba611b",
   "metadata": {},
   "outputs": [],
   "source": [
    "df['keywords'] = df['keywords'].apply(lambda x: [i.replace(\" \",\"\") for i in x])\n"
   ]
  },
  {
   "cell_type": "code",
   "execution_count": null,
   "id": "2ef45b5b",
   "metadata": {},
   "outputs": [],
   "source": [
    "df['cast'] = df['cast'].apply(lambda x: [i.replace(\" \",\"\") for i in x])\n"
   ]
  },
  {
   "cell_type": "code",
   "execution_count": null,
   "id": "4a30e464",
   "metadata": {},
   "outputs": [],
   "source": [
    "df['crew'] = df['crew'].apply(lambda x: [i.replace(\" \",\"\") for i in x])"
   ]
  },
  {
   "cell_type": "code",
   "execution_count": null,
   "id": "abefb3a1-2457-419a-bb2c-780b9280f53c",
   "metadata": {},
   "outputs": [],
   "source": [
    "df['tags']=df['overview']+df['genres']+df['keywords']+df['cast']+df['crew']"
   ]
  },
  {
   "cell_type": "markdown",
   "id": "5fda4c28",
   "metadata": {},
   "source": [
    "### Final filtering of columns"
   ]
  },
  {
   "cell_type": "code",
   "execution_count": null,
   "id": "0ea0f1f0-203f-4766-aacf-334dd172f1e2",
   "metadata": {},
   "outputs": [],
   "source": [
    "new_df=df[['movie_id','title','tags']]"
   ]
  },
  {
   "cell_type": "code",
   "execution_count": null,
   "id": "554a017c-a17a-4752-b51c-556fae2eeed8",
   "metadata": {},
   "outputs": [],
   "source": [
    "new_df"
   ]
  },
  {
   "cell_type": "code",
   "execution_count": null,
   "id": "18bec596-397f-419d-b652-e9fcd1473cfb",
   "metadata": {},
   "outputs": [],
   "source": [
    "new_df['tags'] = new_df['tags'].apply(lambda x:\" \".join (x))"
   ]
  },
  {
   "cell_type": "code",
   "execution_count": null,
   "id": "7beaad02-8bf2-4e64-aa92-b91af1a9c6c3",
   "metadata": {},
   "outputs": [],
   "source": [
    "new_df.head()"
   ]
  },
  {
   "cell_type": "code",
   "execution_count": null,
   "id": "2a63b620-2fac-461a-b0c1-532a3087d745",
   "metadata": {},
   "outputs": [],
   "source": [
    "new_df['tags'] = new_df['tags'].apply(lambda x:x.lower())"
   ]
  },
  {
   "cell_type": "markdown",
   "id": "b38a0227",
   "metadata": {},
   "source": [
    "### Stemming the tags column"
   ]
  },
  {
   "cell_type": "code",
   "execution_count": null,
   "id": "1397c85e-0fed-411b-a07d-d3df50eac69d",
   "metadata": {},
   "outputs": [],
   "source": [
    "import nltk"
   ]
  },
  {
   "cell_type": "code",
   "execution_count": null,
   "id": "fd9a973e-1279-48b5-81cf-3cb41cf9e15e",
   "metadata": {},
   "outputs": [],
   "source": [
    "from nltk.stem.porter import PorterStemmer\n",
    "ps = PorterStemmer()"
   ]
  },
  {
   "cell_type": "code",
   "execution_count": null,
   "id": "8170ca51-c194-46a8-989c-a14124985481",
   "metadata": {},
   "outputs": [],
   "source": [
    "def stem(text):\n",
    "    y = []\n",
    "    for i in text.split():\n",
    "        y.append(ps.stem(i))\n",
    "    return \" \".join(y)"
   ]
  },
  {
   "cell_type": "code",
   "execution_count": null,
   "id": "01eebf7e",
   "metadata": {},
   "outputs": [],
   "source": [
    "new_df['tags'] = new_df['tags'].apply(stem)"
   ]
  },
  {
   "cell_type": "code",
   "execution_count": null,
   "id": "b6b42ad5-32e6-4fbe-8208-f056cba958f3",
   "metadata": {},
   "outputs": [],
   "source": [
    "new_df.head()"
   ]
  },
  {
   "cell_type": "markdown",
   "id": "c648e823",
   "metadata": {},
   "source": [
    "### Vectorization of data"
   ]
  },
  {
   "cell_type": "code",
   "execution_count": null,
   "id": "838b74a3-a3ee-45af-baf4-6dada78a5dee",
   "metadata": {},
   "outputs": [],
   "source": [
    "from sklearn.feature_extraction.text import CountVectorizer\n",
    "cv=CountVectorizer(max_features=5000,stop_words=\"english\")"
   ]
  },
  {
   "cell_type": "code",
   "execution_count": null,
   "id": "5339d33e-cbc3-4cb5-83aa-fa8de7894772",
   "metadata": {},
   "outputs": [],
   "source": [
    "vectors=cv.fit_transform(new_df['tags']).toarray()"
   ]
  },
  {
   "cell_type": "code",
   "execution_count": null,
   "id": "d32298f9-ac1c-4f1e-808b-24f78ef30fb9",
   "metadata": {},
   "outputs": [],
   "source": [
    "vectors.shape"
   ]
  },
  {
   "cell_type": "code",
   "execution_count": null,
   "id": "a1d280a4-0342-4515-8bd1-b8e318582828",
   "metadata": {},
   "outputs": [],
   "source": [
    "vectors[0]"
   ]
  },
  {
   "cell_type": "code",
   "execution_count": null,
   "id": "0a182405-aeb7-4e25-a641-4cc76ee2ee9b",
   "metadata": {},
   "outputs": [],
   "source": [
    "cv.get_feature_names_out()"
   ]
  },
  {
   "cell_type": "markdown",
   "id": "63649206",
   "metadata": {},
   "source": [
    "### Cosine Similarity"
   ]
  },
  {
   "cell_type": "code",
   "execution_count": null,
   "id": "69fcd4fc",
   "metadata": {},
   "outputs": [],
   "source": [
    "from sklearn. metrics.pairwise import cosine_similarity\n",
    "similarity=cosine_similarity(vectors)\n",
    "similarity.shape"
   ]
  },
  {
   "cell_type": "code",
   "execution_count": null,
   "id": "418f8f75",
   "metadata": {},
   "outputs": [],
   "source": [
    "def recommend (movie):\n",
    "    movie_index = new_df[new_df['title'] == movie].index[0]\n",
    "    distances = similarity[movie_index]\n",
    "    movies_list = sorted(list(enumerate(distances)),reverse=True, key=lambda x:x[1])[1:6]\n",
    "    for i in movies_list:\n",
    "        print(new_df.iloc[i[0]].title)"
   ]
  },
  {
   "cell_type": "code",
   "execution_count": null,
   "id": "94de1e41",
   "metadata": {},
   "outputs": [],
   "source": [
    "recommend('Batman Begins')"
   ]
  },
  {
   "cell_type": "markdown",
   "id": "8616d4be",
   "metadata": {},
   "source": [
    "### Generating Pickle Files"
   ]
  },
  {
   "cell_type": "code",
   "execution_count": null,
   "id": "b6816d6b",
   "metadata": {},
   "outputs": [],
   "source": [
    "import pickle"
   ]
  },
  {
   "cell_type": "code",
   "execution_count": null,
   "id": "e7c87203",
   "metadata": {},
   "outputs": [],
   "source": [
    "pickle.dump (new_df.to_dict() ,open('movie_dict.pk1', 'wb' ))"
   ]
  },
  {
   "cell_type": "code",
   "execution_count": null,
   "id": "78a1348c",
   "metadata": {},
   "outputs": [],
   "source": [
    "pickle.dump(similarity,open('similarity.pkl', 'wb'))"
   ]
  }
 ],
 "metadata": {
  "kernelspec": {
   "display_name": "base",
   "language": "python",
   "name": "python3"
  },
  "language_info": {
   "codemirror_mode": {
    "name": "ipython",
    "version": 3
   },
   "file_extension": ".py",
   "mimetype": "text/x-python",
   "name": "python",
   "nbconvert_exporter": "python",
   "pygments_lexer": "ipython3",
   "version": "3.12.2"
  }
 },
 "nbformat": 4,
 "nbformat_minor": 5
}
